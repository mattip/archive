{
 "cells": [
  {
   "cell_type": "markdown",
   "metadata": {
    "cell_style": "center",
    "slideshow": {
     "slide_type": "slide"
    }
   },
   "source": [
    "# How to get involved in NumPy\n",
    "\n",
    "### Matti Picus\n",
    "### Data Umbrella webcast Dec 2, 2020\n",
    "\n",
    "https://github.com/mattip/archive/blob/data_umbrella/content/data_umbrella_dec_2_2020/data_umbrella.ipynb\n"
   ]
  },
  {
   "cell_type": "markdown",
   "metadata": {
    "slideshow": {
     "slide_type": "slide"
    }
   },
   "source": [
    "# What will we do in the next hour?\n",
    "- A brief history of NumPy: when, what, who?\n",
    "- What drives NumPy: what are the goals?\n",
    "- Communication channels and github repos\n",
    "- Building and testing NumPy\n",
    "- Take a look at some issues and PRs\n",
    "- Q&A"
   ]
  },
  {
   "cell_type": "markdown",
   "metadata": {
    "slideshow": {
     "slide_type": "slide"
    }
   },
   "source": [
    "# But first:\n",
    "\n",
    "Matti Picus, \n",
    "- Quansight developer. Previously employed by Berkeley Institute of Data Science to work full time on NumPy. \n",
    "- Avid Open Source evangelist: have converted many Matlab users to Python and told a few that Matlab will suit their workflow better. - PyPy core contributor, and drive-by contributor to many other projects.\n",
    "- \"Kibbutznik\".\n",
    "- Believe that diversity and inclusion are important to human society, tech, and open source."
   ]
  },
  {
   "cell_type": "markdown",
   "metadata": {
    "slideshow": {
     "slide_type": "slide"
    }
   },
   "source": [
    "# History\n",
    "\n",
    "<img src=\"history.png\" width=75%>"
   ]
  },
  {
   "cell_type": "markdown",
   "metadata": {
    "slideshow": {
     "slide_type": "slide"
    }
   },
   "source": [
    "<img src=\"../../presentation_resources/NumPy_info_header.svg\">"
   ]
  },
  {
   "cell_type": "markdown",
   "metadata": {
    "slideshow": {
     "slide_type": "notes"
    }
   },
   "source": [
    "History\n",
    "how library got started, who are the core contributors, where are they located, how does funding work? how many are volunteers?), governance\n"
   ]
  },
  {
   "cell_type": "markdown",
   "metadata": {
    "slideshow": {
     "slide_type": "slide"
    }
   },
   "source": [
    "# What will we do in the next hour?\n",
    "- A brief history of NumPy: when, what, who?\n",
    "- **What drives NumPy: what are the goals?**\n",
    "- Communication channels and github repos\n",
    "- Building and testing NumPy\n",
    "- Take a look at some issues and PRs\n",
    "- Q&A"
   ]
  },
  {
   "cell_type": "code",
   "execution_count": null,
   "metadata": {
    "slideshow": {
     "slide_type": "slide"
    }
   },
   "outputs": [],
   "source": [
    "# About us: Steering Council, Teams, Sponsors, Partners\n",
    "from IPython.display import IFrame, display; display(IFrame(\"https://numpy.org/about/index.html\", width=\"100%\", height=400))"
   ]
  },
  {
   "cell_type": "markdown",
   "metadata": {
    "slideshow": {
     "slide_type": "notes"
    }
   },
   "source": [
    "quick overview, don't dive too deep"
   ]
  },
  {
   "cell_type": "code",
   "execution_count": null,
   "metadata": {
    "slideshow": {
     "slide_type": "slide"
    }
   },
   "outputs": [],
   "source": [
    "# NumPy development is driven via its Roadmap and NEPS\n",
    "from IPython.display import IFrame, display\n",
    "display(IFrame(\"https://numpy.org/neps/\", width=\"100%\", height=400))"
   ]
  },
  {
   "cell_type": "markdown",
   "metadata": {
    "slideshow": {
     "slide_type": "notes"
    }
   },
   "source": [
    "Roadmap -> current goals: interoperability is #1"
   ]
  },
  {
   "cell_type": "markdown",
   "metadata": {
    "slideshow": {
     "slide_type": "slide"
    }
   },
   "source": [
    "# \"Philisophy\" of NumPy: a 20-year old CPU-based array object library\n",
    "\n",
    "- Don't break anything\n",
    "- A nice way to work with a chunk of memory on CPU: strides, shape, dtype\n",
    "- Performance is important\n",
    "- Interoperability beats performance\n",
    "- Don't get too wrapped up in knowing the whole API or everything about \n"
   ]
  },
  {
   "cell_type": "markdown",
   "metadata": {
    "slideshow": {
     "slide_type": "slide"
    }
   },
   "source": [
    "# \"Philosophy of NumPy\": provide ways to interact with others\n",
    "- Provide a minimum of tools to work with the chunk of memory, delegate to other libraries\n",
    "  - In: fft, random, linalg, distutils, polynomial, f2py\n",
    "  - Out: optimizations (scipy), image loading (scikit-image, Pillow), GPU (Cupy, JAX)\n",
    "- Provide protocols to enable overriding `ndarray`, `__array__` `__array_wrap__`, `__array_struct__` `__array_priority__` for [subclassing](https://numpy.org/doc/stable/user/basics.subclassing.html?highlight=__array_wrap__#array-wrap-for-ufuncs-and-other-functions)\n",
    "- Provide protocols to make overriding functions transparent\n",
    "  - `__array_ufunc__`, `__array_function__`, `__array_module__`"
   ]
  },
  {
   "cell_type": "markdown",
   "metadata": {
    "slideshow": {
     "slide_type": "notes"
    }
   },
   "source": [
    "From beginning, NumPy was built to be the format for Scipy: clear deliniation of responsibility"
   ]
  },
  {
   "cell_type": "code",
   "execution_count": null,
   "metadata": {
    "slideshow": {
     "slide_type": "slide"
    }
   },
   "outputs": [],
   "source": [
    "import numpy as np\n",
    "import cupy\n",
    "\n",
    "a = cupy.zeros([10, 10], dtype=np.int64)\n",
    "a.sum()             # can use subclassing\n",
    "np.sum(a)           # needs __array_ufunc__\n",
    "np.mean(a)          # needs __array_function__\n",
    "b = np.arange(start=0, stop=1_000, like=a)   # needs __array_module__"
   ]
  },
  {
   "cell_type": "markdown",
   "metadata": {
    "slideshow": {
     "slide_type": "notes"
    }
   },
   "source": [
    "But even all those protocols is not enough"
   ]
  },
  {
   "cell_type": "code",
   "execution_count": null,
   "metadata": {
    "slideshow": {
     "slide_type": "slide"
    }
   },
   "outputs": [],
   "source": [
    "# Data API - without even importing NumPy\n",
    "display(IFrame(\"https://data-apis.github.io/array-api/latest/\", width=\"100%\", height=400))"
   ]
  },
  {
   "cell_type": "markdown",
   "metadata": {
    "slideshow": {
     "slide_type": "slide"
    }
   },
   "source": [
    "# What will we do in the next hour?\n",
    "- A brief history of NumPy: when, what, who?\n",
    "- What drives NumPy: what are the goals?\n",
    "- **Communication channels and github repos**\n",
    "- Building and testing NumPy\n",
    "- Take a look at some issues and PRs\n",
    "- Q&A"
   ]
  },
  {
   "cell_type": "markdown",
   "metadata": {
    "slideshow": {
     "slide_type": "slide"
    }
   },
   "source": [
    "# Getting heard and getting things done\n",
    "- github.com/numpy : the goto day-to-day tool\n",
    "- numpy-discussion mailing list : for bigger topics\n"
   ]
  },
  {
   "cell_type": "markdown",
   "metadata": {
    "slideshow": {
     "slide_type": "slide"
    }
   },
   "source": [
    "# Major repos\n",
    "\n",
    "Open https://github.com/numpy in another tab\n",
    "- code and documentation - https://github.com/numpy/numpy \n",
    "- website - https://github.com/numpy/numpy.org\n",
    "  - https://numpy.org\n",
    "- NEW! tutorials written in MyST-NB markdown - https://github.com/numpy/numpy-tutorials - \n",
    "- formatting docstrings - https://github.com/numpy/numpydoc - \n"
   ]
  },
  {
   "cell_type": "markdown",
   "metadata": {
    "slideshow": {
     "slide_type": "notes"
    }
   },
   "source": [
    "open issues, open PRs. How long to wait? How to be polite and yet get attention?\n",
    "what are the directories in numpy/numpy? What happens to the C sources?"
   ]
  },
  {
   "cell_type": "markdown",
   "metadata": {
    "slideshow": {
     "slide_type": "slide"
    }
   },
   "source": [
    "# What will we do in the next hour?\n",
    "- A brief history of NumPy: when, what, who?\n",
    "- What drives NumPy: what are the goals?\n",
    "- Communication channels and github repos\n",
    "- **Building and testing NumPy**\n",
    "- Take a look at some issues and PRs\n",
    "- Q&A"
   ]
  },
  {
   "cell_type": "markdown",
   "metadata": {
    "slideshow": {
     "slide_type": "slide"
    }
   },
   "source": [
    "# Lets take a look at the contributor guide\n",
    "\n",
    "https://numpy.org/devdocs/dev/index.html\n",
    "\n",
    "The truth is, it is quite simple"
   ]
  },
  {
   "cell_type": "markdown",
   "metadata": {
    "slideshow": {
     "slide_type": "slide"
    }
   },
   "source": [
    "# In a terminal\n",
    "```\n",
    "# create a directory for working\n",
    "mkdir /tmp/du_dir\n",
    "cd /tmp/du_dir\n",
    "# create a virtual environment for conda\n",
    "conda create -n data_umbrella python=3.8\n",
    "conda activate data_umbrella\n",
    "# regular git workflow\n",
    "git clone https://github.com/numpy/numpy\n",
    "cd numpy\n",
    "pip install -r test_requirements.txt\n",
    "python runtests.py\n",
    "```"
   ]
  },
  {
   "cell_type": "markdown",
   "metadata": {
    "slideshow": {
     "slide_type": "slide"
    }
   },
   "source": [
    "# Things to look out for\n",
    "\n",
    "- macOSx and Accelerate\n",
    "- Much of the code base is written in C (not C++)\n",
    "  - generated code\n",
    "  - C-API and refcounting\n",
    "- Building documentation:\n",
    "  - Code is self-documenting, so you must have NumPy installed\n",
    "  - Docstrings for c-extensions are [injected from Python](https://github.com/numpy/numpy/blob/master/numpy/core/_add_newdocs.py) and use the [NumPyDoc](https://numpydoc.readthedocs.io/en/latest/example.html) format"
   ]
  },
  {
   "cell_type": "markdown",
   "metadata": {
    "slideshow": {
     "slide_type": "slide"
    }
   },
   "source": [
    "# What will we do in the next hour?\n",
    "- A brief history of NumPy: when, what, who?\n",
    "- What drives NumPy: what are the goals?\n",
    "- Communication channels and github repos\n",
    "- Building and testing NumPy\n",
    "- **Take a look at some issues and PRs**\n",
    "- Q&A"
   ]
  },
  {
   "cell_type": "markdown",
   "metadata": {
    "slideshow": {
     "slide_type": "slide"
    }
   },
   "source": [
    "# Typical workflow, is pretty standard\n",
    "\n",
    "- Add a failing test (test driven development)\n",
    "- Find where the function is implemented\n",
    "- Start to work from there figuring out the logic that trips the test\n",
    "- Fix it\n",
    "- Run all the tests\n",
    "- Push a PR and then interact with people"
   ]
  },
  {
   "cell_type": "markdown",
   "metadata": {
    "slideshow": {
     "slide_type": "slide"
    }
   },
   "source": [
    "# It is not trivial to find good \"first issues\"\n",
    "\n",
    "Let's look at https://github.com/numpy/numpy together\n",
    "\n",
    "https://github.com/numpy/numpy/issues/17764 (note the formatting problems)\n",
    "\n",
    "https://github.com/numpy/numpy/pull/17878 (wow, that got complicated quickly)"
   ]
  },
  {
   "cell_type": "markdown",
   "metadata": {
    "slideshow": {
     "slide_type": "slide"
    }
   },
   "source": [
    "Thanks!"
   ]
  }
 ],
 "metadata": {
  "celltoolbar": "Slideshow",
  "kernelspec": {
   "display_name": "Python 3",
   "language": "python",
   "name": "python3"
  },
  "language_info": {
   "codemirror_mode": {
    "name": "ipython",
    "version": 3
   },
   "file_extension": ".py",
   "mimetype": "text/x-python",
   "name": "python",
   "nbconvert_exporter": "python",
   "pygments_lexer": "ipython3",
   "version": "3.8.6"
  },
  "rise": {
   "enable_chalkboard": true
  }
 },
 "nbformat": 4,
 "nbformat_minor": 4
}
